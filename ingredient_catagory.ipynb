{
 "cells": [
  {
   "cell_type": "code",
   "execution_count": null,
   "metadata": {},
   "outputs": [],
   "source": [
    "import os\n",
    "import pandas as pd\n",
    "\n",
    "base_path = './ingredient/'\n",
    "files=['v1_JuanDiErShenXianFuShi.csv_ingredient.csv','v1_JuanDiErShiLiaoZhuBing.csv_ingredient.csv','v1_JuanDiErZhuBanTangJian.csv_ingredient.csv','v1_JuanDiYiJuZhenYiZhuan_1.csv_ingredient.csv', 'v1_JuanDiYiJuZhenYiZhuan_2.csv_ingredient.csv','v1_JuanDiYiJuZhenYiZhuan_3.csv_ingredient.csv']\n",
    "\n",
    "dfs=[]\n",
    "\n",
    "total_shape=[0,3]\n",
    "\n",
    "for file_name in files:\n",
    "    df = pd.read_csv(os.path.join(base_path, file_name),encoding = \"UTF-8\")\n",
    "    dfs.append(df)\n",
    "    print(df.shape)\n",
    "    total_shape[0]+=df.shape[0]\n",
    "print(total_shape)"
   ]
  },
  {
   "cell_type": "code",
   "execution_count": null,
   "metadata": {},
   "outputs": [],
   "source": [
    "ingredient_df=pd.concat(dfs)\n",
    "print(ingredient_df.shape)\n",
    "# ingredient_df=pd.DataFrame(ingredient_df['Ingredient']).reset_index(drop=True)\n",
    "display(ingredient_df)\n",
    "ingredient_df=pd.DataFrame(ingredient_df['Ingredient'].unique(),columns=['Ingredient'])\n",
    "# print(ingredient_df['Ingredient'].drop_duplicates)\n",
    "display(ingredient_df)\n",
    "# print(ingredient_df[ingredient_df['Ingredient']=='荆芥穗'])\n"
   ]
  },
  {
   "cell_type": "code",
   "execution_count": 50,
   "metadata": {},
   "outputs": [],
   "source": [
    "ingredient_df.to_csv(f'./unique_ingredient.csv', index=False, encoding='utf-8-sig')"
   ]
  },
  {
   "cell_type": "code",
   "execution_count": 73,
   "metadata": {},
   "outputs": [
    {
     "data": {
      "text/html": [
       "<div>\n",
       "<style scoped>\n",
       "    .dataframe tbody tr th:only-of-type {\n",
       "        vertical-align: middle;\n",
       "    }\n",
       "\n",
       "    .dataframe tbody tr th {\n",
       "        vertical-align: top;\n",
       "    }\n",
       "\n",
       "    .dataframe thead th {\n",
       "        text-align: right;\n",
       "    }\n",
       "</style>\n",
       "<table border=\"1\" class=\"dataframe\">\n",
       "  <thead>\n",
       "    <tr style=\"text-align: right;\">\n",
       "      <th></th>\n",
       "      <th>Ingredient</th>\n",
       "      <th>catagory</th>\n",
       "    </tr>\n",
       "  </thead>\n",
       "  <tbody>\n",
       "    <tr>\n",
       "      <th>0</th>\n",
       "      <td>半夏</td>\n",
       "      <td>chinese_medicinal_material</td>\n",
       "    </tr>\n",
       "    <tr>\n",
       "      <th>1</th>\n",
       "      <td>菵草</td>\n",
       "      <td>plant</td>\n",
       "    </tr>\n",
       "    <tr>\n",
       "      <th>2</th>\n",
       "      <td>藜芦</td>\n",
       "      <td>other</td>\n",
       "    </tr>\n",
       "    <tr>\n",
       "      <th>3</th>\n",
       "      <td>凡石</td>\n",
       "      <td>other</td>\n",
       "    </tr>\n",
       "    <tr>\n",
       "      <th>4</th>\n",
       "      <td>皂角</td>\n",
       "      <td>chinese_medicinal_material</td>\n",
       "    </tr>\n",
       "    <tr>\n",
       "      <th>...</th>\n",
       "      <td>...</td>\n",
       "      <td>...</td>\n",
       "    </tr>\n",
       "    <tr>\n",
       "      <th>275</th>\n",
       "      <td>蜜</td>\n",
       "      <td>other</td>\n",
       "    </tr>\n",
       "    <tr>\n",
       "      <th>276</th>\n",
       "      <td>猪头</td>\n",
       "      <td>meat</td>\n",
       "    </tr>\n",
       "    <tr>\n",
       "      <th>277</th>\n",
       "      <td>鲤鱼</td>\n",
       "      <td>seafood</td>\n",
       "    </tr>\n",
       "    <tr>\n",
       "      <th>278</th>\n",
       "      <td>羊后脚</td>\n",
       "      <td>meat</td>\n",
       "    </tr>\n",
       "    <tr>\n",
       "      <th>279</th>\n",
       "      <td>颇儿必</td>\n",
       "      <td>other</td>\n",
       "    </tr>\n",
       "  </tbody>\n",
       "</table>\n",
       "<p>280 rows × 2 columns</p>\n",
       "</div>"
      ],
      "text/plain": [
       "    Ingredient                    catagory\n",
       "0           半夏  chinese_medicinal_material\n",
       "1           菵草                       plant\n",
       "2           藜芦                       other\n",
       "3           凡石                       other\n",
       "4           皂角  chinese_medicinal_material\n",
       "..         ...                         ...\n",
       "275          蜜                       other\n",
       "276         猪头                        meat\n",
       "277         鲤鱼                     seafood\n",
       "278        羊后脚                        meat\n",
       "279        颇儿必                       other\n",
       "\n",
       "[280 rows x 2 columns]"
      ]
     },
     "metadata": {},
     "output_type": "display_data"
    }
   ],
   "source": [
    "ingredient_df = pd.read_csv(f'./unique_ingredient.csv',encoding = \"utf-8-sig\")\n",
    "catagory_list={'dairy_product':['酥油','奶'],\n",
    "               'meat':['鸡','猪','羊','驴','肉','鸽','鸭','牛','鹿','兔','马','蹄','肠','雁'],\n",
    "               'vegetable':['菜','粟','葱','萝卜','笋','黄瓜','茄','秦椒','韭','藕'],\n",
    "               'plant':['草','花','叶','豆','萸','乌头','荆芥穗','桂'],\n",
    "               'fruit':['石榴','桃','橘','枣','梅','杏','栀'],\n",
    "               'seafood':['鱼'],\n",
    "               'condiment':['盐','糖'],\n",
    "               'spice':['蜀椒','姜','蒜','椒'],\n",
    "               'juice':['汁'],\n",
    "               'grain':['米','饼','面','大麦','仁'],\n",
    "               'tea':['茶'],\n",
    "               'chinese_medicinal_material':['夏','角','枸杞','香','皮','仁','荆实','人参','砂','膏','官桂','味']}\n",
    "for ingredient in ingredient_df['Ingredient'].values:\n",
    "    flag=True\n",
    "    # print(ingredient)\n",
    "    for catagory in catagory_list:\n",
    "        # print(catagory)\n",
    "        for catagory_ingredient in catagory_list[catagory]:\n",
    "            # print('catagory_ingredient:',catagory_ingredient)\n",
    "            if catagory_ingredient in ingredient:\n",
    "                ingredient_df.loc[ingredient_df['Ingredient']==ingredient,'catagory']=catagory\n",
    "                flag=False\n",
    "                break\n",
    "    if flag:\n",
    "        ingredient_df.loc[ingredient_df['Ingredient']==ingredient,'catagory']='other'\n",
    "display(ingredient_df)\n",
    "        "
   ]
  },
  {
   "cell_type": "code",
   "execution_count": 74,
   "metadata": {},
   "outputs": [],
   "source": [
    "#ingredient_df.to_csv(f'./ingredient_category.csv', index=False, encoding='utf-8-sig')"
   ]
  },
  {
   "cell_type": "code",
   "execution_count": 75,
   "metadata": {},
   "outputs": [
    {
     "name": "stdout",
     "output_type": "stream",
     "text": [
      "75\n"
     ]
    }
   ],
   "source": [
    "print((ingredient_df['catagory']=='other').sum())\n"
   ]
  },
  {
   "cell_type": "code",
   "execution_count": null,
   "metadata": {},
   "outputs": [],
   "source": []
  }
 ],
 "metadata": {
  "kernelspec": {
   "display_name": "dh",
   "language": "python",
   "name": "python3"
  },
  "language_info": {
   "codemirror_mode": {
    "name": "ipython",
    "version": 3
   },
   "file_extension": ".py",
   "mimetype": "text/x-python",
   "name": "python",
   "nbconvert_exporter": "python",
   "pygments_lexer": "ipython3",
   "version": "3.9.18"
  }
 },
 "nbformat": 4,
 "nbformat_minor": 2
}
