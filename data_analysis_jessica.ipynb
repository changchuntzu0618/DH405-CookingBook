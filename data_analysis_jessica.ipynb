{
 "cells": [
  {
   "cell_type": "code",
   "execution_count": 2,
   "metadata": {},
   "outputs": [],
   "source": [
    "import pandas as pd\n",
    "import numpy as np\n",
    "import os\n",
    "import matplotlib.pyplot as plt"
   ]
  },
  {
   "cell_type": "markdown",
   "metadata": {},
   "source": [
    "### Read all the data we need to dataframe"
   ]
  },
  {
   "cell_type": "code",
   "execution_count": 3,
   "metadata": {},
   "outputs": [],
   "source": [
    "## first_clean_recipe\n",
    "first_clean_recipe_path='./first_clean_recipe/'\n",
    "dfs=[]\n",
    "for file in os.listdir(first_clean_recipe_path):\n",
    "    df = pd.read_csv(os.path.join(first_clean_recipe_path,file))\n",
    "    df=pd.DataFrame(df['Food_Name']).reset_index(drop=True)\n",
    "    df['Juan']=file.split('.')[0].split('1_')[1]\n",
    "    # print(df.shape)\n",
    "    dfs.append(df)\n",
    "    # display(df.head())\n",
    "food_name_juan_df=pd.concat(dfs)\n",
    "# print(food_name_juan_df.shape)\n",
    "# display(food_name_juan_df.head())\n",
    "\n",
    "## categorize\n",
    "categorize_path='./categorize/'\n",
    "categories_df = pd.read_csv(os.path.join(categorize_path, 'categories.csv'))\n",
    "effect_df = pd.read_csv(os.path.join(categorize_path, 'effect.csv'))\n",
    "ingredient_category_df = pd.read_csv(os.path.join(categorize_path, 'ingredient_category.csv'))\n",
    "methods_df = pd.read_csv(os.path.join(categorize_path, 'methods.csv'))\n",
    "# display(categories_df.head())\n",
    "# display(effect_df.head())\n",
    "# display(ingredient_category_df.head())\n",
    "# display(methods_df.head())\n",
    "\n",
    "## translation_recipe_v1\n",
    "translation_receipe_path='./translation_recipe_v1_utf8/'\n",
    "dfs=[]\n",
    "for file in os.listdir(translation_receipe_path):\n",
    "    # Specify the encoding when reading the CSV file\n",
    "    df = pd.read_csv(os.path.join(translation_receipe_path,file), encoding='utf-8')\n",
    "    dfs.append(df)\n",
    "translation_receipe_df=pd.concat(dfs).reset_index(drop=True)\n",
    "# display(translation_receipe_df.head())\n",
    "\n",
    "## ingredient\n",
    "ingredient_path='./ingredient/'\n",
    "files=['v1_JuanDiErShenXianFuShi.csv_ingredient.csv','v1_JuanDiErShiLiaoZhuBing.csv_ingredient.csv','v1_JuanDiErZhuBanTangJian.csv_ingredient.csv','v1_JuanDiYiJuZhenYiZhuan_1.csv_ingredient.csv', 'v1_JuanDiYiJuZhenYiZhuan_2.csv_ingredient.csv','v1_JuanDiYiJuZhenYiZhuan_3.csv_ingredient.csv']\n",
    "dfs=[]\n",
    "# total_shape=[0,3]\n",
    "for file_name in files:\n",
    "    df = pd.read_csv(os.path.join(ingredient_path, file_name),encoding = \"UTF-8\")\n",
    "    dfs.append(df)\n",
    "    # total_shape[0]+=df.shape[0]\n",
    "ingredient_df=pd.concat(dfs).reset_index(drop=True)\n",
    "# print(ingredient_df.shape)\n",
    "# display(ingredient_df.head())\n",
    "\n",
    "\n",
    "## unique_categorize\n",
    "unique_categorize_path='./unique_categorize/'\n",
    "unique_ingredient_category_df=pd.read_csv(os.path.join(unique_categorize_path,'unique_ingredient_category.csv'))\n",
    "unique_categories_df=pd.read_csv(os.path.join(unique_categorize_path,'unique_categories.csv'))\n",
    "unique_effect_df=pd.read_csv(os.path.join(unique_categorize_path,'unique_effect.csv'))\n",
    "unique_methods_df=pd.read_csv(os.path.join(unique_categorize_path,'unique_methods.csv'))\n",
    "# display(unique_ingredient_category_df.head())\n",
    "# display(unique_categories_df.head())\n",
    "# display(unique_effect_df.head())\n",
    "# display(unique_methods_df.head())"
   ]
  },
  {
   "cell_type": "markdown",
   "metadata": {},
   "source": [
    "**Dataframes we have now:**\n",
    "\n",
    "- `food_name_juan_df`: Food_Name, Juan\n",
    "\n",
    "- `categories_df`: category, Food_Name\n",
    "\n",
    "- `effect_df`: Effect, Food_Name\n",
    "\n",
    "- `ingredient_category_df`: Ingredient, category\n",
    "\n",
    "- `methods_df`: method, Food_Name\n",
    "\n",
    "- `translation_receipe_df`: Food_Name, Effect, Ingredients, Steps\n",
    "\n",
    "- `ingredient_df`: Food_Name, Ingredient, Amount\n",
    "\n",
    "- `unique_ingredient_category_df`: category\n",
    "\n",
    "- `unique_categories_df`: category\n",
    "\n",
    "- `unique_effect_df`: Effect\n",
    "\n",
    "- `unique_methods_df`: method\n",
    "\n",
    "\n"
   ]
  },
  {
   "cell_type": "markdown",
   "metadata": {},
   "source": [
    "### Data analysis\n",
    "- effect frequency\n",
    "- cooking method frequency"
   ]
  },
  {
   "cell_type": "code",
   "execution_count": 24,
   "metadata": {},
   "outputs": [],
   "source": [
    "# Setting chinese font for matplotlib\n",
    "plt.rcParams['font.family'] = ['sans-serif']\n",
    "plt.rcParams['font.sans-serif'] = ['SimHei', 'Arial']"
   ]
  },
  {
   "cell_type": "markdown",
   "metadata": {},
   "source": [
    "#### Effect frequency"
   ]
  },
  {
   "cell_type": "code",
   "execution_count": 25,
   "metadata": {},
   "outputs": [
    {
     "name": "stdout",
     "output_type": "stream",
     "text": [
      "There are 217 unique effects.\n",
      "Show the 10 most frequent effects\n"
     ]
    },
    {
     "data": {
      "text/html": [
       "<div>\n",
       "<style scoped>\n",
       "    .dataframe tbody tr th:only-of-type {\n",
       "        vertical-align: middle;\n",
       "    }\n",
       "\n",
       "    .dataframe tbody tr th {\n",
       "        vertical-align: top;\n",
       "    }\n",
       "\n",
       "    .dataframe thead th {\n",
       "        text-align: right;\n",
       "    }\n",
       "</style>\n",
       "<table border=\"1\" class=\"dataframe\">\n",
       "  <thead>\n",
       "    <tr style=\"text-align: right;\">\n",
       "      <th></th>\n",
       "      <th>Effect</th>\n",
       "      <th>count</th>\n",
       "      <th>proportion</th>\n",
       "    </tr>\n",
       "  </thead>\n",
       "  <tbody>\n",
       "    <tr>\n",
       "      <th>0</th>\n",
       "      <td>补中益气</td>\n",
       "      <td>28</td>\n",
       "      <td>0.084592</td>\n",
       "    </tr>\n",
       "    <tr>\n",
       "      <th>1</th>\n",
       "      <td>治中风</td>\n",
       "      <td>7</td>\n",
       "      <td>0.021148</td>\n",
       "    </tr>\n",
       "    <tr>\n",
       "      <th>2</th>\n",
       "      <td>补中</td>\n",
       "      <td>7</td>\n",
       "      <td>0.021148</td>\n",
       "    </tr>\n",
       "    <tr>\n",
       "      <th>3</th>\n",
       "      <td>顺气</td>\n",
       "      <td>6</td>\n",
       "      <td>0.018127</td>\n",
       "    </tr>\n",
       "    <tr>\n",
       "      <th>4</th>\n",
       "      <td>生津止渴</td>\n",
       "      <td>6</td>\n",
       "      <td>0.018127</td>\n",
       "    </tr>\n",
       "  </tbody>\n",
       "</table>\n",
       "</div>"
      ],
      "text/plain": [
       "  Effect  count  proportion\n",
       "0   补中益气     28    0.084592\n",
       "1    治中风      7    0.021148\n",
       "2     补中      7    0.021148\n",
       "3     顺气      6    0.018127\n",
       "4   生津止渴      6    0.018127"
      ]
     },
     "metadata": {},
     "output_type": "display_data"
    }
   ],
   "source": [
    "unique_effect=unique_effect_df['Effect'].tolist()\n",
    "print('There are {} unique effects.'.format(len(unique_effect)))\n",
    "\n",
    "effect_count=effect_df.value_counts(subset=['Effect'])#reset_index()\n",
    "effect_propotion=effect_df.value_counts(subset=['Effect'], normalize=True).reset_index()\n",
    "effect_frequncy=pd.merge(effect_count,effect_propotion,on='Effect')\n",
    "print('Show the 10 most frequent effects')\n",
    "display(effect_frequncy.head())"
   ]
  },
  {
   "cell_type": "code",
   "execution_count": 32,
   "metadata": {},
   "outputs": [
    {
     "ename": "TypeError",
     "evalue": "explode() missing 1 required positional argument: 'column'",
     "output_type": "error",
     "traceback": [
      "\u001b[0;31m---------------------------------------------------------------------------\u001b[0m",
      "\u001b[0;31mTypeError\u001b[0m                                 Traceback (most recent call last)",
      "\u001b[1;32m/home/jessica/EPFL/Course/DH405-DigitalHumanities/DH405-CookingBook/data_analysis_jessica.ipynb Cell 9\u001b[0m line \u001b[0;36m1\n\u001b[0;32m----> <a href='vscode-notebook-cell:/home/jessica/EPFL/Course/DH405-DigitalHumanities/DH405-CookingBook/data_analysis_jessica.ipynb#X24sZmlsZQ%3D%3D?line=0'>1</a>\u001b[0m effect_df\u001b[39m.\u001b[39;49mexplode()\u001b[39m.\u001b[39mvalue_counts(subset\u001b[39m=\u001b[39m[\u001b[39m'\u001b[39m\u001b[39mEffect\u001b[39m\u001b[39m'\u001b[39m])\u001b[39m#reset_index()\u001b[39;00m\n",
      "\u001b[0;31mTypeError\u001b[0m: explode() missing 1 required positional argument: 'column'"
     ]
    }
   ],
   "source": [
    "effect_df.explode().value_counts(subset=['Effect'])#reset_index()"
   ]
  },
  {
   "cell_type": "code",
   "execution_count": null,
   "metadata": {},
   "outputs": [],
   "source": [
    "effect_count.values.tolist()"
   ]
  },
  {
   "cell_type": "code",
   "execution_count": 26,
   "metadata": {},
   "outputs": [
    {
     "data": {
      "image/png": "[encoded data removed]",
      "text/plain": [
       "<Figure size 1000x500 with 1 Axes>"
      ]
     },
     "metadata": {},
     "output_type": "display_data"
    }
   ],
   "source": [
    "# bar chart \"top 10 most frequent effect\"\n",
    "plt.figure(figsize=(10, 5))\n",
    "effect_count.head(10).plot(kind='bar', color='skyblue')\n",
    "plt.title('Top 10 Effect')\n",
    "plt.xlabel('Effect')\n",
    "plt.ylabel('Count')\n",
    "plt.show()"
   ]
  },
  {
   "cell_type": "markdown",
   "metadata": {},
   "source": [
    "#### Cooking method frequency"
   ]
  },
  {
   "cell_type": "code",
   "execution_count": 27,
   "metadata": {},
   "outputs": [
    {
     "name": "stdout",
     "output_type": "stream",
     "text": [
      "There are 10 unique methods.\n",
      "Show the 10 most frequent methods\n"
     ]
    },
    {
     "data": {
      "text/html": [
       "<div>\n",
       "<style scoped>\n",
       "    .dataframe tbody tr th:only-of-type {\n",
       "        vertical-align: middle;\n",
       "    }\n",
       "\n",
       "    .dataframe tbody tr th {\n",
       "        vertical-align: top;\n",
       "    }\n",
       "\n",
       "    .dataframe thead th {\n",
       "        text-align: right;\n",
       "    }\n",
       "</style>\n",
       "<table border=\"1\" class=\"dataframe\">\n",
       "  <thead>\n",
       "    <tr style=\"text-align: right;\">\n",
       "      <th></th>\n",
       "      <th>method</th>\n",
       "      <th>count</th>\n",
       "      <th>proportion</th>\n",
       "    </tr>\n",
       "  </thead>\n",
       "  <tbody>\n",
       "    <tr>\n",
       "      <th>0</th>\n",
       "      <td>熬</td>\n",
       "      <td>67</td>\n",
       "      <td>0.320574</td>\n",
       "    </tr>\n",
       "    <tr>\n",
       "      <th>1</th>\n",
       "      <td>煮</td>\n",
       "      <td>54</td>\n",
       "      <td>0.258373</td>\n",
       "    </tr>\n",
       "    <tr>\n",
       "      <th>2</th>\n",
       "      <td>炒</td>\n",
       "      <td>36</td>\n",
       "      <td>0.172249</td>\n",
       "    </tr>\n",
       "    <tr>\n",
       "      <th>3</th>\n",
       "      <td>煎</td>\n",
       "      <td>18</td>\n",
       "      <td>0.086124</td>\n",
       "    </tr>\n",
       "    <tr>\n",
       "      <th>4</th>\n",
       "      <td>蒸</td>\n",
       "      <td>9</td>\n",
       "      <td>0.043062</td>\n",
       "    </tr>\n",
       "    <tr>\n",
       "      <th>5</th>\n",
       "      <td>炸</td>\n",
       "      <td>8</td>\n",
       "      <td>0.038278</td>\n",
       "    </tr>\n",
       "    <tr>\n",
       "      <th>6</th>\n",
       "      <td>烧</td>\n",
       "      <td>7</td>\n",
       "      <td>0.033493</td>\n",
       "    </tr>\n",
       "    <tr>\n",
       "      <th>7</th>\n",
       "      <td>淹</td>\n",
       "      <td>5</td>\n",
       "      <td>0.023923</td>\n",
       "    </tr>\n",
       "    <tr>\n",
       "      <th>8</th>\n",
       "      <td>炙</td>\n",
       "      <td>3</td>\n",
       "      <td>0.014354</td>\n",
       "    </tr>\n",
       "    <tr>\n",
       "      <th>9</th>\n",
       "      <td>焙</td>\n",
       "      <td>2</td>\n",
       "      <td>0.009569</td>\n",
       "    </tr>\n",
       "  </tbody>\n",
       "</table>\n",
       "</div>"
      ],
      "text/plain": [
       "  method  count  proportion\n",
       "0      熬     67    0.320574\n",
       "1      煮     54    0.258373\n",
       "2      炒     36    0.172249\n",
       "3      煎     18    0.086124\n",
       "4      蒸      9    0.043062\n",
       "5      炸      8    0.038278\n",
       "6      烧      7    0.033493\n",
       "7      淹      5    0.023923\n",
       "8      炙      3    0.014354\n",
       "9      焙      2    0.009569"
      ]
     },
     "metadata": {},
     "output_type": "display_data"
    }
   ],
   "source": [
    "unique_method=unique_methods_df['method'].tolist()\n",
    "print('There are {} unique methods.'.format(len(unique_method)))\n",
    "\n",
    "method_count=methods_df.value_counts(subset=['method'])#.reset_index()\n",
    "method_propotion=methods_df.value_counts(subset=['method'], normalize=True).reset_index()\n",
    "method_frequency=pd.merge(method_count, method_propotion, on='method')\n",
    "\n",
    "print('Show the 10 most frequent methods')\n",
    "display(method_frequency.head(10))"
   ]
  },
  {
   "cell_type": "code",
   "execution_count": 28,
   "metadata": {},
   "outputs": [
    {
     "data": {
      "image/png": "[encoded data removed]",
      "text/plain": [
       "<Figure size 1000x500 with 1 Axes>"
      ]
     },
     "metadata": {},
     "output_type": "display_data"
    }
   ],
   "source": [
    "# bar chart \"top 10 most frequent methods\"\n",
    "plt.figure(figsize=(10, 5))\n",
    "method_count.head(10).plot(kind='bar', color='skyblue')\n",
    "plt.title('Top 10 Methods')\n",
    "plt.xlabel('Method')\n",
    "plt.ylabel('Count')\n",
    "plt.show()"
   ]
  },
  {
   "cell_type": "code",
   "execution_count": null,
   "metadata": {},
   "outputs": [],
   "source": []
  }
 ],
 "metadata": {
  "kernelspec": {
   "display_name": "dh",
   "language": "python",
   "name": "python3"
  },
  "language_info": {
   "codemirror_mode": {
    "name": "ipython",
    "version": 3
   },
   "file_extension": ".py",
   "mimetype": "text/x-python",
   "name": "python",
   "nbconvert_exporter": "python",
   "pygments_lexer": "ipython3",
   "version": "3.9.18"
  }
 },
 "nbformat": 4,
 "nbformat_minor": 2
}
