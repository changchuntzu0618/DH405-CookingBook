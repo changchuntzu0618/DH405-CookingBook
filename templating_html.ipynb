{
 "cells": [
  {
   "cell_type": "code",
   "execution_count": null,
   "metadata": {},
   "outputs": [],
   "source": [
    "import os\n",
    "import pandas as pd\n",
    "\n",
    "# read all recipes\n",
    "base_path = './ingredient/'\n",
    "files = os.listdir(base_path)\n",
    "\n",
    "files.remove('v1_JuanDiErShenXianFuShi.csv_ingredient.csv')\n",
    "\n",
    "# dfs = []\n",
    "# for file_name in files:\n",
    "#     dfs.append(pd.read_csv(os.path.join(base_path, file_name)))\n",
    "# ingredients = pd.concat(dfs, ignore_index=True)\n",
    "\n",
    "# effects = pd.read_csv('./categorize/effect.csv')\n",
    "\n",
    "# methods = pd.read_csv('./categorize/methods.csv')\n",
    "\n",
    "# categories = pd.read_csv('./categorize/categories.csv')\n",
    "\n",
    "# food_names = ingredients['Food_Name'].unique()\n",
    "\n",
    "# ingredients_category = pd.read_csv('./categorize/ingredient_category.csv')\n",
    "\n",
    "# effects_category = pd.read_csv('./categorize/effect.csv')"
   ]
  },
  {
   "cell_type": "code",
   "execution_count": null,
   "metadata": {},
   "outputs": [],
   "source": [
    "list(methods['method'].unique())"
   ]
  },
  {
   "cell_type": "code",
   "execution_count": null,
   "metadata": {},
   "outputs": [],
   "source": [
    "methods = pd.read_csv('./categorize/methods.csv')\n",
    "\n",
    "list(methods['method'].unique())\n",
    "method_translated = ['Boil', 'Simmer', 'Steam', 'Pan-fry', 'Bake', 'Braise', 'Broil', 'Stir-fry', 'Roast', 'Deep-fry']\n",
    "method_mapping = {}\n",
    "\n",
    "for i, e in enumerate(list(methods['method'].unique())):\n",
    "    method_mapping[e] = method_translated[i]"
   ]
  },
  {
   "cell_type": "code",
   "execution_count": null,
   "metadata": {},
   "outputs": [],
   "source": [
    "with open('ingredients.csv', 'w') as f:\n",
    "    f.write('\\n'.join(list(ingredients_category['Ingredient'].unique())))"
   ]
  },
  {
   "cell_type": "code",
   "execution_count": null,
   "metadata": {},
   "outputs": [],
   "source": [
    "base_path = './first_clean_recipe/'\n",
    "files = os.listdir(base_path)\n",
    "\n",
    "dfs = []\n",
    "\n",
    "for file_name in files[1:]:\n",
    "    dfs.append(pd.read_csv(os.path.join(base_path, file_name)))\n",
    "steps = pd.concat(dfs, ignore_index=True)"
   ]
  },
  {
   "cell_type": "code",
   "execution_count": null,
   "metadata": {},
   "outputs": [],
   "source": [
    "recipes = pd.DataFrame(columns=['Food_Name', 'Effects', 'Method', 'Category', 'Ingredients'])\n",
    "\n",
    "for food_name in food_names:\n",
    "    food_effects = list(effects[effects['Food_Name'] == food_name]['Effect'].values)\n",
    "    method = methods[methods['Food_Name'] == food_name]['method'].values\n",
    "    food_method = method[0] if len(method) > 0 else ''\n",
    "    category = categories[categories['Food_Name'] == food_name]['category'].values\n",
    "    food_category = category[0] if len(category) > 0 else ''\n",
    "    food_ingredients = list(ingredients[ingredients['Food_Name'] == food_name]['Ingredient'].values)\n",
    "    recipes = pd.concat([recipes, pd.DataFrame({'Food_Name': [food_name], 'Effects': [food_effects], 'Method': [food_method], 'Category': [food_category], 'Ingredients': [food_ingredients]})], ignore_index=True)"
   ]
  },
  {
   "cell_type": "code",
   "execution_count": null,
   "metadata": {},
   "outputs": [],
   "source": [
    "recipe_entry_pug = '''tr\n",
    "  .accordion-item\n",
    "    h2.accordion-header\n",
    "      button.accordion-button.collapsed(type='button' data-bs-toggle='collapse' data-bs-target='#collapse{id}' aria-expanded='false' aria-controls='collapse{id}')\n",
    "        strong {recipe_name}\n",
    "    #collapse{id}.accordion-collapse.collapse(data-bs-parent='#accordionExample')\n",
    "      .accordion-body\n",
    "        div\n",
    "          .attributes\n",
    "            {type}\n",
    "            span.px-1 |\n",
    "            {ingredients}\n",
    "            span.px-1 |\n",
    "            {effects}\n",
    "          p {steps}\n",
    "'''\n",
    "\n",
    "type_tag = 'span.badge.rounded-pill.text-bg-primary {type}'\n",
    "\n",
    "# also amount?\n",
    "ingredient_tag = 'span.badge.rounded-pill.text-bg-dark {ingredient}'\n",
    "\n",
    "effect_tag = 'span.badge.rounded-pill.text-bg-success {effect}'\n",
    "\n",
    "first_level_item = '''li\n",
    "  a.dropdown-item(href='#') {category}\n",
    "  ul.dropdown-menu.dropdown-submenu\n",
    "    {second_level_items}'''\n",
    "\n",
    "checklist_pug = '''li\n",
    "      .form-check\n",
    "        input#{type}_{id}.form-check-input(type='checkbox' value='{item}')\n",
    "        label.form-check-label.ml-3(for='ingredient_{id}') {item}\n",
    "'''"
   ]
  },
  {
   "cell_type": "markdown",
   "metadata": {},
   "source": [
    "### For generating category"
   ]
  },
  {
   "cell_type": "code",
   "execution_count": null,
   "metadata": {},
   "outputs": [],
   "source": [
    "checks = []\n",
    "\n",
    "category = pd.read_csv('./category.csv', sep='|')\n",
    "\n",
    "for i, c in enumerate(category['category_en'].unique()):\n",
    "    checks.append(checklist_pug.format(type='category', id=i, item=c))\n",
    "\n",
    "with open('category_checks.pug', 'w') as f:\n",
    "    f.write(''.join(checks))\n",
    "\n",
    "# exec pug with generated tags\n",
    "import subprocess\n",
    "subprocess.run(['pug', 'category_checks.pug'], stderr=subprocess.DEVNULL)"
   ]
  },
  {
   "cell_type": "markdown",
   "metadata": {},
   "source": [
    "### For generating effects"
   ]
  },
  {
   "cell_type": "code",
   "execution_count": null,
   "metadata": {},
   "outputs": [],
   "source": [
    "checks = []\n",
    "\n",
    "effect_category = pd.read_csv('./effect_category.csv', sep='|')\n",
    "\n",
    "for i, c in enumerate(effect_category['category'].unique()):\n",
    "    checks.append(checklist_pug.format(type='effect', id=i, item=c))\n",
    "\n",
    "with open('effect_checks.pug', 'w') as f:\n",
    "    f.write(''.join(checks))\n",
    "\n",
    "# exec pug with generated tags\n",
    "import subprocess\n",
    "subprocess.run(['pug', 'effect_checks.pug'], stderr=subprocess.DEVNULL)"
   ]
  },
  {
   "cell_type": "markdown",
   "metadata": {},
   "source": [
    "### For generating ingredients checkboxes"
   ]
  },
  {
   "cell_type": "code",
   "execution_count": null,
   "metadata": {},
   "outputs": [],
   "source": [
    "checks = []\n",
    "\n",
    "ingredient_category = pd.read_csv('./ingredient_category.csv', sep='|')\n",
    "\n",
    "for i, c in enumerate(ingredient_category['category'].unique()):\n",
    "    ingred = []\n",
    "    for j, ingredient in enumerate(ingredient_category[ingredient_category['category'] == c]['Ingredient_en']):\n",
    "        ingredient = ' '.join(ingredient.split('_')).title()\n",
    "        ingred.append(checklist_pug.format(type='ingredient', id=f'{i}_{j}', item=ingredient))\n",
    "    second_level = '    '.join(ingred)\n",
    "    checks.append(first_level_item.format(category=' '.join(c.split('_')).title() + ' &raquo;', second_level_items=second_level))\n",
    "\n",
    "with open('ingredient_checks.pug', 'w') as f:\n",
    "    f.write(''.join(checks))\n",
    "\n",
    "# exec pug with generated tags\n",
    "import subprocess\n",
    "subprocess.run(['pug', 'ingredient_checks.pug'], stderr=subprocess.DEVNULL)"
   ]
  },
  {
   "cell_type": "markdown",
   "metadata": {},
   "source": [
    "### For generating methods"
   ]
  },
  {
   "cell_type": "code",
   "execution_count": null,
   "metadata": {},
   "outputs": [],
   "source": [
    "checks = []\n",
    "\n",
    "for i, c in enumerate(methods['method'].unique()):\n",
    "    checks.append(checklist_pug.format(type='method', id=i, item=c, item_translated=method_mapping[c]))\n",
    "\n",
    "with open('method_checks.pug', 'w') as f:\n",
    "    f.write(''.join(checks))\n",
    "\n",
    "# exec pug with generated tags\n",
    "import subprocess\n",
    "subprocess.run(['pug', 'method_checks.pug'], stderr=subprocess.DEVNULL)"
   ]
  },
  {
   "cell_type": "code",
   "execution_count": null,
   "metadata": {},
   "outputs": [],
   "source": [
    "# for each recipe, generate a pug entry\n",
    "entries = []\n",
    "\n",
    "recipes = pd.read_csv('./full_recipe.csv', sep='|')\n",
    "\n",
    "ingredients = pd.read_csv('./ingredient/all_ingredient.csv', sep='|')\n",
    "\n",
    "effects = pd.read_csv('./effect.csv', sep='|')\n",
    "\n",
    "\n",
    "\n",
    "for name in recipes['Food_Name_en'].unique():\n",
    "    entry = {}\n",
    "    recipe_name = name\n",
    "    type = category[category['Food_Name_en'] == recipe_name]['category_en'].values[0]\n",
    "    food_ingredients = list(ingredients[ingredients['Food_Name_en'] == recipe_name]['Ingredient_en'].values)\n",
    "    food_effects = list(effects[effects['Food_Name_en'] == recipe_name]['Effect_en'].values)\n",
    "    food_steps = recipes[recipes['Food_Name_en'] == recipe_name]['Steps_en'].values\n",
    "    food_steps = food_steps[0] if len(food_steps) > 0 else ''\n",
    "    food_steps = food_steps if food_steps == food_steps else ''\n",
    "    # type_tag = type_tag.format(type=type)\n",
    "    entry['recipe_name'] = recipe_name\n",
    "    entry['category'] = type\n",
    "    entry['ingredients'] = food_ingredients\n",
    "    entry['effects'] = food_effects\n",
    "    entry['steps'] = food_steps\n",
    "    # entry['tags'] = \\\n",
    "    # list(ingredient_category[ingredient_category['Ingredient_en'].isin(food_ingredients)]['category'].unique()) + \\\n",
    "    # list(effect_category[effect_category['Food_Name_en'] == recipe_name]['category'].unique()) + \\\n",
    "    # [type]\n",
    "    entries.append(entry)\n",
    "\n",
    "import json\n",
    "with open('recipes.json', 'w', encoding='utf-8-sig') as f:\n",
    "    json.dump(entries, f, ensure_ascii=False, indent=4)"
   ]
  }
 ],
 "metadata": {
  "kernelspec": {
   "display_name": "Python 3",
   "language": "python",
   "name": "python3"
  },
  "language_info": {
   "codemirror_mode": {
    "name": "ipython",
    "version": 3
   },
   "file_extension": ".py",
   "mimetype": "text/x-python",
   "name": "python",
   "nbconvert_exporter": "python",
   "pygments_lexer": "ipython3",
   "version": "3.9.6"
  }
 },
 "nbformat": 4,
 "nbformat_minor": 2
}
