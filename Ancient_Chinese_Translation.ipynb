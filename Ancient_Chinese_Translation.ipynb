{
 "cells": [
  {
   "cell_type": "markdown",
   "metadata": {},
   "source": [
    "### Some helper functions to convert txt file contains translation from ChatGpt to dataframe"
   ]
  },
  {
   "cell_type": "code",
   "execution_count": 2,
   "metadata": {},
   "outputs": [],
   "source": [
    "import os\n",
    "import pandas as pd\n",
    "\n",
    "base_path = './first_clean_recipe/'\n",
    "files=['v1_JuanDiYiJuZhenYiZhuan_1.csv', 'v1_JuanDiYiJuZhenYiZhuan_2.csv','v1_JuanDiYiJuZhenYiZhuan_3.csv']"
   ]
  },
  {
   "cell_type": "code",
   "execution_count": 8,
   "metadata": {},
   "outputs": [
    {
     "data": {
      "text/html": [
       "<div>\n",
       "<style scoped>\n",
       "    .dataframe tbody tr th:only-of-type {\n",
       "        vertical-align: middle;\n",
       "    }\n",
       "\n",
       "    .dataframe tbody tr th {\n",
       "        vertical-align: top;\n",
       "    }\n",
       "\n",
       "    .dataframe thead th {\n",
       "        text-align: right;\n",
       "    }\n",
       "</style>\n",
       "<table border=\"1\" class=\"dataframe\">\n",
       "  <thead>\n",
       "    <tr style=\"text-align: right;\">\n",
       "      <th></th>\n",
       "      <th>Food_Name</th>\n",
       "      <th>Effect</th>\n",
       "      <th>Ingredients</th>\n",
       "      <th>Steps</th>\n",
       "    </tr>\n",
       "  </thead>\n",
       "  <tbody>\n",
       "    <tr>\n",
       "      <th>0</th>\n",
       "      <td>颇儿必汤</td>\n",
       "      <td>即羊辟膝骨。 主男女虚劳，寒中，羸瘦，阴气不足。利血脉，益经气。</td>\n",
       "      <td>颇儿必三四十个，水洗净。</td>\n",
       "      <td>上件，用水一铁络，同熬。四分中熬取一分，澄滤净，去油去滓，再凝定。如欲食，任意多少。</td>\n",
       "    </tr>\n",
       "    <tr>\n",
       "      <th>1</th>\n",
       "      <td>米哈讷关列孙</td>\n",
       "      <td>治五劳七伤，藏气虚冷。常服补中益气。</td>\n",
       "      <td>羊后脚一个 去筋膜，切碎</td>\n",
       "      <td>上件，用净锅内干 熟。令盖封闭，不透气，后用净布绞纽取汁。</td>\n",
       "    </tr>\n",
       "  </tbody>\n",
       "</table>\n",
       "</div>"
      ],
      "text/plain": [
       "  Food_Name                            Effect   Ingredients  \\\n",
       "0      颇儿必汤  即羊辟膝骨。 主男女虚劳，寒中，羸瘦，阴气不足。利血脉，益经气。  颇儿必三四十个，水洗净。   \n",
       "1    米哈讷关列孙                治五劳七伤，藏气虚冷。常服补中益气。  羊后脚一个 去筋膜，切碎   \n",
       "\n",
       "                                        Steps  \n",
       "0  上件，用水一铁络，同熬。四分中熬取一分，澄滤净，去油去滓，再凝定。如欲食，任意多少。  \n",
       "1               上件，用净锅内干 熟。令盖封闭，不透气，后用净布绞纽取汁。  "
      ]
     },
     "metadata": {},
     "output_type": "display_data"
    },
    {
     "name": "stdout",
     "output_type": "stream",
     "text": [
      "上件，用水一铁络，同熬。四分中熬取一分，澄滤净，去油去滓，再凝定。如欲食，任意多少。\n",
      "上件，用净锅内干 熟。令盖封闭，不透气，后用净布绞纽取汁。\n"
     ]
    }
   ],
   "source": [
    "# for file_name in files:\n",
    "file_name=files[2]\n",
    "df = pd.read_csv(os.path.join(base_path, file_name))\n",
    "display(df.head())\n",
    "for line in df['Steps'].values:\n",
    "    print(line)\n",
    "    with open('temp_jessica/steps_3.txt', 'a') as the_file:\n",
    "        the_file.write(str(line)+'\\n')"
   ]
  },
  {
   "cell_type": "code",
   "execution_count": 25,
   "metadata": {},
   "outputs": [
    {
     "name": "stdout",
     "output_type": "stream",
     "text": [
      "csv_filename: ./temp_jessica/effect_trans.csv\n"
     ]
    }
   ],
   "source": [
    "import os\n",
    "import csv \n",
    "\n",
    "translation_txt_path='./temp_jessica/effect_trans.txt'\n",
    "\n",
    "fields=['Effect','Effect_trans']\n",
    "\n",
    "rows=[]\n",
    "data={}\n",
    "\n",
    "with open(translation_txt_path, 'r') as f:\n",
    "    lines=f.readlines()\n",
    "    for line in lines:\n",
    "        single_row=[]\n",
    "        line=line.strip()\n",
    "        # print(line.split('-'))\n",
    "        if line == 'nan':\n",
    "            single_row.append('')\n",
    "            single_row.append('')\n",
    "        else:\n",
    "            single_row.append(line.split(' -')[0])\n",
    "            single_row.append(line.split(' -')[1])\n",
    "        rows.append(single_row)\n",
    "\n",
    "csv_filename = os.path.join('./temp_jessica','effect_trans.csv')\n",
    "print('csv_filename:',csv_filename)\n",
    "    \n",
    "# writing to csv file  \n",
    "with open(csv_filename, 'w') as csvfile:  \n",
    "    # creating a csv writer object  \n",
    "    csvwriter = csv.writer(csvfile)  \n",
    "        \n",
    "    # writing the fields  \n",
    "    csvwriter.writerow(fields)  \n",
    "        \n",
    "    # writing the data rows  \n",
    "    csvwriter.writerows(rows) "
   ]
  },
  {
   "cell_type": "code",
   "execution_count": 26,
   "metadata": {},
   "outputs": [
    {
     "name": "stdout",
     "output_type": "stream",
     "text": [
      "csv_filename: ./temp_jessica/steps_trans_2.csv\n"
     ]
    }
   ],
   "source": [
    "import os\n",
    "import csv \n",
    "\n",
    "txt_path='./temp_jessica/steps_2.txt'\n",
    "translation_txt_path='./temp_jessica/steps_trans_2.txt'\n",
    "\n",
    "fields=['Steps','Steps_trans']\n",
    "\n",
    "trans=[]\n",
    "ori=[]\n",
    "\n",
    "rows=[]\n",
    "\n",
    "with open(translation_txt_path, 'r') as f:\n",
    "    lines=f.readlines()\n",
    "    for line in lines:\n",
    "        single_row=[]\n",
    "        line=line.strip()\n",
    "        trans.append(line)\n",
    "with open(txt_path, 'r') as f:\n",
    "    lines=f.readlines()\n",
    "    for line in lines:\n",
    "        single_row=[]\n",
    "        line=line.strip()\n",
    "        ori.append(line)\n",
    "\n",
    "if len(trans) != len(ori):\n",
    "    print('length not equal')\n",
    "    exit()\n",
    "else:\n",
    "    for i in range(len(ori)):\n",
    "        single_row=[]\n",
    "        single_row.append(ori[i])\n",
    "        single_row.append(trans[i])\n",
    "        rows.append(single_row)\n",
    "\n",
    "csv_filename = os.path.join('./temp_jessica','steps_trans_2.csv')\n",
    "print('csv_filename:',csv_filename)\n",
    "    \n",
    "# writing to csv file  \n",
    "with open(csv_filename, 'w') as csvfile:  \n",
    "    # creating a csv writer object  \n",
    "    csvwriter = csv.writer(csvfile)  \n",
    "        \n",
    "    # writing the fields  \n",
    "    csvwriter.writerow(fields)  \n",
    "        \n",
    "    # writing the data rows  \n",
    "    csvwriter.writerows(rows) "
   ]
  },
  {
   "cell_type": "code",
   "execution_count": 47,
   "metadata": {},
   "outputs": [
    {
     "data": {
      "text/html": [
       "<div>\n",
       "<style scoped>\n",
       "    .dataframe tbody tr th:only-of-type {\n",
       "        vertical-align: middle;\n",
       "    }\n",
       "\n",
       "    .dataframe tbody tr th {\n",
       "        vertical-align: top;\n",
       "    }\n",
       "\n",
       "    .dataframe thead th {\n",
       "        text-align: right;\n",
       "    }\n",
       "</style>\n",
       "<table border=\"1\" class=\"dataframe\">\n",
       "  <thead>\n",
       "    <tr style=\"text-align: right;\">\n",
       "      <th></th>\n",
       "      <th>Food_Name</th>\n",
       "      <th>Effect</th>\n",
       "      <th>Ingredients</th>\n",
       "      <th>Steps</th>\n",
       "    </tr>\n",
       "  </thead>\n",
       "  <tbody>\n",
       "    <tr>\n",
       "      <th>0</th>\n",
       "      <td>颇儿必汤</td>\n",
       "      <td>即为羊背脊骨。 主治男女因虚劳、寒冷、体羸瘦、阴气不足引发的症状。有助于促进血液循环，增强经...</td>\n",
       "      <td>颇儿必三四十个，水洗净。</td>\n",
       "      <td>上述食材，使用铁锅和水，一同煮沸。将四分之一的液体煮至凝固，然后澄清过滤，去除油和杂质，再次...</td>\n",
       "    </tr>\n",
       "    <tr>\n",
       "      <th>1</th>\n",
       "      <td>米哈讷关列孙</td>\n",
       "      <td>用于治疗五劳七伤，以及体内气虚寒冷的情况。通常用以滋补脾胃，增进体内的气血。</td>\n",
       "      <td>羊后脚一个 去筋膜，切碎</td>\n",
       "      <td>上述食材，将其在干净的锅中煮熟，确保盖子封闭，不透气，然后使用干净的布绞压以提取汁液。</td>\n",
       "    </tr>\n",
       "  </tbody>\n",
       "</table>\n",
       "</div>"
      ],
      "text/plain": [
       "  Food_Name                                             Effect   Ingredients  \\\n",
       "0      颇儿必汤  即为羊背脊骨。 主治男女因虚劳、寒冷、体羸瘦、阴气不足引发的症状。有助于促进血液循环，增强经...  颇儿必三四十个，水洗净。   \n",
       "1    米哈讷关列孙             用于治疗五劳七伤，以及体内气虚寒冷的情况。通常用以滋补脾胃，增进体内的气血。  羊后脚一个 去筋膜，切碎   \n",
       "\n",
       "                                               Steps  \n",
       "0  上述食材，使用铁锅和水，一同煮沸。将四分之一的液体煮至凝固，然后澄清过滤，去除油和杂质，再次...  \n",
       "1        上述食材，将其在干净的锅中煮熟，确保盖子封闭，不透气，然后使用干净的布绞压以提取汁液。  "
      ]
     },
     "metadata": {},
     "output_type": "display_data"
    }
   ],
   "source": [
    "trans_effect_path='./temp_jessica/effect_trans_3.csv'\n",
    "trans_steps_path='./temp_jessica/steps_trans_3.csv'\n",
    "csv_file='./translation_recipe_v1/v1_tranlation_JuanDiYiJuZhenYiZhuan_3.csv'\n",
    "\n",
    "base_path = './first_clean_recipe/'\n",
    "files=['v1_JuanDiYiJuZhenYiZhuan_1.csv', 'v1_JuanDiYiJuZhenYiZhuan_2.csv','v1_JuanDiYiJuZhenYiZhuan_3.csv']\n",
    "\n",
    "file_name=files[2]\n",
    "df = pd.read_csv(os.path.join(base_path, file_name))\n",
    "effect=pd.read_csv(trans_effect_path)\n",
    "steps=pd.read_csv(trans_steps_path)\n",
    "\n",
    "#merge three dataframe\n",
    "trans=df.join(effect,lsuffix='Effect')\n",
    "trans=trans.join(steps,lsuffix='Steps')\n",
    "\n",
    "#write the code for replace effect column by effect_trans column\n",
    "trans['Effect']=trans['Effect_trans']\n",
    "trans['Steps']=trans['Steps_trans']\n",
    "# display(trans.head())\n",
    "\n",
    "trans = trans.drop('Effect_trans',axis=1)\n",
    "trans= trans.drop('Steps_trans',axis=1)\n",
    "trans = trans.drop('EffectEffect',axis=1)\n",
    "trans= trans.drop('StepsSteps',axis=1)\n",
    "trans = trans[['Food_Name', 'Effect', 'Ingredients','Steps']]\n",
    "display(trans.head())\n",
    "\n",
    "# Write the DataFrame to the CSV file\n",
    "trans.to_csv(csv_file, index=False)  # Set index=False to exclude the index column\n"
   ]
  }
 ],
 "metadata": {
  "kernelspec": {
   "display_name": "dh",
   "language": "python",
   "name": "python3"
  },
  "language_info": {
   "codemirror_mode": {
    "name": "ipython",
    "version": 3
   },
   "file_extension": ".py",
   "mimetype": "text/x-python",
   "name": "python",
   "nbconvert_exporter": "python",
   "pygments_lexer": "ipython3",
   "version": "3.9.18"
  }
 },
 "nbformat": 4,
 "nbformat_minor": 2
}
