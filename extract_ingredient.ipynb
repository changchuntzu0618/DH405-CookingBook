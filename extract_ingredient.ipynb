{
 "cells": [
  {
   "cell_type": "code",
   "execution_count": 38,
   "metadata": {},
   "outputs": [],
   "source": [
    "import os\n",
    "import pandas as pd\n",
    "\n",
    "base_path = './first_clean_recipe/'\n",
    "files = os.listdir(base_path)"
   ]
  },
  {
   "cell_type": "code",
   "execution_count": 40,
   "metadata": {},
   "outputs": [],
   "source": [
    "for file_name in files:\n",
    "    df = pd.read_csv(os.path.join(base_path, file_name))\n",
    "    ingredients = pd.DataFrame(columns=['Food_Name', 'Ingredient', 'Amount'])\n",
    "\n",
    "    for index, row in df.iterrows():\n",
    "        if row['Ingredients'] != row['Ingredients']:\n",
    "            continue\n",
    "        ingredient_list = row['Ingredients'].split(' ')\n",
    "        i = 0\n",
    "        while i < len(ingredient_list):\n",
    "            ingredient = ingredient_list[i]\n",
    "            if ingredient == '':\n",
    "                i = i + 1\n",
    "                continue\n",
    "            amount = '' if i + 1 >= len(ingredient_list) else ingredient_list[i + 1]\n",
    "            ingredients = pd.concat([pd.DataFrame([[row['Food_Name'], ingredient, amount]], columns=ingredients.columns), ingredients], ignore_index=True)\n",
    "            i = i + 2\n",
    "\n",
    "    ingredients.to_csv(f'./ingredient/{file_name}_ingredient.csv', index=False, encoding='utf-8-sig')"
   ]
  }
 ],
 "metadata": {
  "kernelspec": {
   "display_name": "Python 3",
   "language": "python",
   "name": "python3"
  },
  "language_info": {
   "codemirror_mode": {
    "name": "ipython",
    "version": 3
   },
   "file_extension": ".py",
   "mimetype": "text/x-python",
   "name": "python",
   "nbconvert_exporter": "python",
   "pygments_lexer": "ipython3",
   "version": "3.9.6"
  }
 },
 "nbformat": 4,
 "nbformat_minor": 2
}
