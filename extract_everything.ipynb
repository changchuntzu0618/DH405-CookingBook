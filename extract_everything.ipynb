{
 "cells": [
  {
   "cell_type": "markdown",
   "metadata": {},
   "source": [
    "#### For extracting ingredients and effect and creating category mapping from English to Chinese"
   ]
  },
  {
   "cell_type": "code",
   "execution_count": 11,
   "metadata": {},
   "outputs": [],
   "source": [
    "import os\n",
    "import pandas as pd\n",
    "\n",
    "base_path = './first_clean_recipe/'\n",
    "files = [\n",
    "    ('v1_JuanDiErShiLiaoZhuBing_eng.csv', 'v1_JuanDiErShiLiaoZhuBing.csv'),\n",
    "    ('v1_JuanDiErZhuBanTangJian_eng.csv', 'v1_JuanDiErZhuBanTangJian.csv'),\n",
    "    ('v1_JuanDiYiJuZhenYiZhuan_1_eng.csv', 'v1_JuanDiYiJuZhenYiZhuan_1.csv'),\n",
    "    ('v1_JuanDiYiJuZhenYiZhuan_2_eng.csv', 'v1_JuanDiYiJuZhenYiZhuan_2.csv'),\n",
    "    ('v1_JuanDiYiJuZhenYiZhuan_3_eng.csv', 'v1_JuanDiYiJuZhenYiZhuan_3.csv')\n",
    "]"
   ]
  },
  {
   "cell_type": "code",
   "execution_count": 12,
   "metadata": {},
   "outputs": [],
   "source": [
    "import re\n",
    "\n",
    "pattern = re.compile(r'(?P<ingredient>[A-Za-z\\s’\\[\\]“”\\.-]+)\\s*(?P<quantity>\\([0-9A-Za-z\\s;,“”\\.-]+\\))?')"
   ]
  },
  {
   "cell_type": "markdown",
   "metadata": {},
   "source": [
    "#### Construct df for all recipes english and chinese"
   ]
  },
  {
   "cell_type": "code",
   "execution_count": 13,
   "metadata": {},
   "outputs": [],
   "source": [
    "dfs = []\n",
    "for file_name in files:\n",
    "    df1 = pd.read_csv(os.path.join(base_path, file_name[0]), sep='|')\n",
    "    df2 = pd.read_csv(os.path.join(base_path, file_name[1]), sep=',')\n",
    "    df = pd.concat([df1, df2], axis=1)\n",
    "    dfs.append(df)\n",
    "full = pd.concat(dfs, ignore_index=True)\n",
    "full.to_csv('./full_recipe.csv', sep='|', index=False, encoding='utf-8-sig')"
   ]
  },
  {
   "cell_type": "markdown",
   "metadata": {},
   "source": [
    "#### Extracting ingredients from recipes"
   ]
  },
  {
   "cell_type": "code",
   "execution_count": 181,
   "metadata": {},
   "outputs": [],
   "source": [
    "ingredients = pd.DataFrame(columns=['Food_Name', 'Food_Name_en', 'Ingredient', 'Ingredient_en', 'Amount'])\n",
    "\n",
    "for index, row in full.iterrows():\n",
    "    if row['Ingredients_en'] != row['Ingredients_en']:\n",
    "        continue\n",
    "    ingredient_list = row['Ingredients'].split(' ')\n",
    "    ingredient_en = row['Ingredients_en']\n",
    "    if ingredient_en[-1] == '.':\n",
    "        ingredient_en = ingredient_en[:-1] \n",
    "    i = 0\n",
    "    ingreds_en = []\n",
    "    ingreds = []\n",
    "    matches = pattern.finditer(ingredient_en)\n",
    "    for match in matches:\n",
    "        ingredient = match.group('ingredient')\n",
    "        if ingredient != ingredient or ingredient == '':\n",
    "            continue\n",
    "        ingredient = ingredient.strip()\n",
    "        if ingredient == '':\n",
    "            continue\n",
    "        if ingredient[-1] == '.':\n",
    "            ingredient = ingredient[:-1]\n",
    "\n",
    "        quantity = match.group('quantity')\n",
    "        if quantity is not None:\n",
    "            quantity = quantity.strip().replace('(', '').replace(')', '')\n",
    "        \n",
    "        ingreds_en.append((ingredient, quantity))\n",
    "    \n",
    "    i = 0\n",
    "    while i < len(ingredient_list):\n",
    "        ingredient = ingredient_list[i]\n",
    "        if ingredient == '':\n",
    "            i = i + 1\n",
    "            continue\n",
    "        i = i + 2\n",
    "        ingreds.append(ingredient)\n",
    "    \n",
    "    for ingredient, ingredient_en in zip(ingreds, ingreds_en):\n",
    "        amount = ingredient_en[1]\n",
    "        ingredient_en = ingredient_en[0]\n",
    "        ingredients = pd.concat([pd.DataFrame([[row['Food_Name'], row['Food_Name_en'], ingredient, ingredient_en, amount]], columns=ingredients.columns), ingredients], ignore_index=True)\n",
    "\n",
    "ingredients.to_csv(f'./ingredient/all_ingredient.csv', sep='|', index=False, encoding='utf-8-sig')"
   ]
  },
  {
   "cell_type": "markdown",
   "metadata": {},
   "source": [
    "#### Extracting effects recipes"
   ]
  },
  {
   "cell_type": "code",
   "execution_count": 182,
   "metadata": {},
   "outputs": [],
   "source": [
    "effects = pd.DataFrame(columns=['Effect_en', 'Food_Name_en', 'Effect', 'Food_Name'])\n",
    "\n",
    "for index, row in full.iterrows():\n",
    "    if row['Effect_en'] != row['Effect_en']:\n",
    "        continue\n",
    "    es = row['Effect_en'].lower().replace('it ', '').replace('they', '').replace('.', '').split(', ')\n",
    "    eng_effects = []\n",
    "    for e in es:\n",
    "        if e == '':\n",
    "            continue\n",
    "        if e.startswith('and'):\n",
    "            e = e[3:]\n",
    "        elif e.startswith('[and]'):\n",
    "            e = e[5:]\n",
    "        e = e.strip()\n",
    "        eng_effects.append((e, row['Food_Name_en']))\n",
    "\n",
    "    zh_effects = []\n",
    "    for e in row['Effect'].split('，'):\n",
    "        zh_effects.append((e, row['Food_Name']))\n",
    "    \n",
    "    for effect_en, effect_zh in zip(eng_effects, zh_effects):\n",
    "        effects = pd.concat([pd.DataFrame([[effect_en[0], effect_en[1], effect_zh[0], effect_zh[1]]], columns=effects.columns), effects], ignore_index=True)\n",
    "effects.to_csv(f'./effect.csv', index=False, sep='|', encoding='utf-8-sig')"
   ]
  },
  {
   "cell_type": "markdown",
   "metadata": {},
   "source": [
    "#### Generating cooking method mapping"
   ]
  },
  {
   "cell_type": "code",
   "execution_count": 186,
   "metadata": {},
   "outputs": [],
   "source": [
    "methods = pd.DataFrame(columns=['method_en', 'Food_Name_en', 'method', 'Food_Name'])\n",
    "\n",
    "methods_chinese = pd.read_csv('./categorize/methods.csv')\n",
    "\n",
    "method_translated = ['Boil', 'Simmer', 'Steam', 'Pan-fry', 'Bake', 'Braise', 'Broil', 'Stir-fry', 'Roast', 'Deep-fry']\n",
    "method_mapping = {}\n",
    "\n",
    "for i, e in enumerate(list(methods_chinese['method'].unique())):\n",
    "    method_mapping[e] = method_translated[i]\n",
    "\n",
    "for index, row in methods_chinese.iterrows():\n",
    "    name = row['Food_Name']\n",
    "    method = row['method']\n",
    "    method_en = method_mapping[method]\n",
    "    if full[full['Food_Name'] == name].empty:\n",
    "        continue\n",
    "    name_en = full[full['Food_Name'] == name]['Food_Name_en'].values[0]\n",
    "    methods = pd.concat([pd.DataFrame([[method_en, name_en, method, name]], columns=methods.columns), methods], ignore_index=True)\n",
    "\n",
    "methods.to_csv(f'./method.csv', index=False, sep='|', encoding='utf-8-sig')"
   ]
  },
  {
   "cell_type": "markdown",
   "metadata": {},
   "source": [
    "#### Generating category mapping"
   ]
  },
  {
   "cell_type": "code",
   "execution_count": 14,
   "metadata": {},
   "outputs": [],
   "source": [
    "cateogry = pd.DataFrame(columns=['category_en', 'Food_Name_en', 'category', 'Food_Name'])\n",
    "\n",
    "category_chinese = pd.read_csv('./categorize/categories.csv')\n",
    "\n",
    "category_mapping = {}\n",
    "category_translated = ['Paste', 'Pan-fry', 'Dish', 'Thick soup', 'Conge', 'Meat', 'Soup', 'Noodles', 'Rice noodles', 'Pancake', 'Thick liquid', 'Oil', 'Tea', 'Wonton', 'Steamed bun']\n",
    "\n",
    "for i, e in enumerate(list(category_chinese['category'].unique())):\n",
    "    category_mapping[e] = category_translated[i]\n",
    "\n",
    "for index, row in category_chinese.iterrows():\n",
    "    name = row['Food_Name']\n",
    "    category = row['category']\n",
    "    category_en = category_mapping[category]\n",
    "    if full[full['Food_Name'] == name].empty:\n",
    "        continue\n",
    "    name_en = full[full['Food_Name'] == name]['Food_Name_en'].values[0]\n",
    "    cateogry = pd.concat([pd.DataFrame([[category_en, name_en, category, name]], columns=cateogry.columns), cateogry], ignore_index=True)\n",
    "\n",
    "cateogry.to_csv(f'./category.csv', index=False, sep='|', encoding='utf-8-sig')"
   ]
  },
  {
   "cell_type": "markdown",
   "metadata": {},
   "source": [
    "#### Generating ingredient mapping"
   ]
  },
  {
   "cell_type": "code",
   "execution_count": 21,
   "metadata": {},
   "outputs": [],
   "source": [
    "ingredient_cateogry = pd.DataFrame(columns=['Ingredient_en', 'category', 'Ingredient'])\n",
    "ingredients = pd.read_csv('./ingredient/all_ingredient.csv', sep='|')\n",
    "\n",
    "ingredient_category_chinese = pd.read_csv('./categorize/ingredient_category.csv')\n",
    "\n",
    "for index, row in ingredient_category_chinese.iterrows():\n",
    "    name = row['Ingredient']\n",
    "    category = row['category']\n",
    "    if ingredients[ingredients['Ingredient'] == name].empty:\n",
    "        continue\n",
    "    name_en = ingredients[ingredients['Ingredient'] == name]['Ingredient_en'].values[0]\n",
    "    ingredient_cateogry = pd.concat([pd.DataFrame([[name_en, category, name]], columns=ingredient_cateogry.columns), ingredient_cateogry], ignore_index=True)\n",
    "\n",
    "ingredient_cateogry.to_csv(f'./ingredient_category.csv', index=False, sep='|', encoding='utf-8-sig')"
   ]
  },
  {
   "cell_type": "markdown",
   "metadata": {},
   "source": [
    "#### Generating effect mapping"
   ]
  },
  {
   "cell_type": "code",
   "execution_count": 23,
   "metadata": {},
   "outputs": [],
   "source": [
    "effect_category = pd.DataFrame(columns=['Effect_en', 'category', 'Effect'])\n",
    "effects = pd.read_csv('./effect.csv', sep='|')\n",
    "\n",
    "effect_category_chinese = pd.read_csv('./categorize/effect.csv')\n",
    "\n",
    "for index, row in effect_category_chinese.iterrows():\n",
    "    name = row['Effect']\n",
    "    category = row['Category']\n",
    "    if effects[effects['Effect'] == name].empty:\n",
    "        continue\n",
    "    name_en = effects[effects['Effect'] == name]['Effect_en'].values[0]\n",
    "    effect_category = pd.concat([pd.DataFrame([[name_en, category, name]], columns=effect_category.columns), effect_category], ignore_index=True)\n",
    "\n",
    "effect_category.to_csv(f'./effect_category.csv', index=False, sep='|', encoding='utf-8-sig')"
   ]
  }
 ],
 "metadata": {
  "kernelspec": {
   "display_name": "Python 3",
   "language": "python",
   "name": "python3"
  },
  "language_info": {
   "codemirror_mode": {
    "name": "ipython",
    "version": 3
   },
   "file_extension": ".py",
   "mimetype": "text/x-python",
   "name": "python",
   "nbconvert_exporter": "python",
   "pygments_lexer": "ipython3",
   "version": "3.9.6"
  }
 },
 "nbformat": 4,
 "nbformat_minor": 2
}
